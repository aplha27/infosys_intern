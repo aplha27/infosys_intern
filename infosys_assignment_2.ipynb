{
  "nbformat": 4,
  "nbformat_minor": 0,
  "metadata": {
    "colab": {
      "provenance": [],
      "authorship_tag": "ABX9TyMGsEDd3jCCTaQ5kMZZT08/",
      "include_colab_link": true
    },
    "kernelspec": {
      "name": "python3",
      "display_name": "Python 3"
    },
    "language_info": {
      "name": "python"
    }
  },
  "cells": [
    {
      "cell_type": "markdown",
      "metadata": {
        "id": "view-in-github",
        "colab_type": "text"
      },
      "source": [
        "<a href=\"https://colab.research.google.com/github/aplha27/infosys_intern/blob/main/infosys_assignment_2.ipynb\" target=\"_parent\"><img src=\"https://colab.research.google.com/assets/colab-badge.svg\" alt=\"Open In Colab\"/></a>"
      ]
    },
    {
      "cell_type": "code",
      "execution_count": 1,
      "metadata": {
        "colab": {
          "base_uri": "https://localhost:8080/"
        },
        "id": "3cx_ByfiG33Y",
        "outputId": "041155c2-0aef-4b2b-9d18-301e32a3b8fc"
      },
      "outputs": [
        {
          "output_type": "stream",
          "name": "stderr",
          "text": [
            "<ipython-input-1-44ecd3f4f553>:17: FutureWarning: DataFrame.applymap has been deprecated. Use DataFrame.map instead.\n",
            "  df = df.applymap(clean_text)\n"
          ]
        },
        {
          "output_type": "stream",
          "name": "stdout",
          "text": [
            "Basic Information:\n",
            "<class 'pandas.core.frame.DataFrame'>\n",
            "RangeIndex: 3250 entries, 0 to 3249\n",
            "Data columns (total 8 columns):\n",
            " #   Column               Non-Null Count  Dtype \n",
            "---  ------               --------------  ----- \n",
            " 0   ID                   3250 non-null   object\n",
            " 1   Name                 3250 non-null   object\n",
            " 2   Role                 3250 non-null   object\n",
            " 3   Transcript           3250 non-null   object\n",
            " 4   Resume               3250 non-null   object\n",
            " 5   decision             3250 non-null   object\n",
            " 6   Reason for decision  3250 non-null   object\n",
            " 7   Job Description      3250 non-null   object\n",
            "dtypes: object(8)\n",
            "memory usage: 203.3+ KB\n",
            "None\n",
            "\n",
            "Summary Statistics:\n",
            "               ID    Name            Role  \\\n",
            "count        3250    3250            3250   \n",
            "unique       3250    2029              25   \n",
            "top     brenbr359  ananya  data scientist   \n",
            "freq            1      21             592   \n",
            "\n",
            "                                               Transcript  \\\n",
            "count                                                3250   \n",
            "unique                                               3250   \n",
            "top     product manager interview transcript interview...   \n",
            "freq                                                    1   \n",
            "\n",
            "                                                   Resume decision  \\\n",
            "count                                                3250     3250   \n",
            "unique                                               3250        4   \n",
            "top     here's a sample resume for brent brown applyin...   reject   \n",
            "freq                                                    1     1121   \n",
            "\n",
            "        Reason for decision                                    Job Description  \n",
            "count                  3250                                               3250  \n",
            "unique                  529                                               1843  \n",
            "top     technical knowledge  struggled to effectively communicate ideas., l...  \n",
            "freq                    201                                                 36  \n",
            "\n",
            "Missing Values:\n",
            "ID                     0\n",
            "Name                   0\n",
            "Role                   0\n",
            "Transcript             0\n",
            "Resume                 0\n",
            "decision               0\n",
            "Reason for decision    0\n",
            "Job Description        0\n",
            "dtype: int64\n",
            "\n",
            "Grouping and Aggregation Example:\n",
            "Empty DataFrame\n",
            "Columns: []\n",
            "Index: [aaraba826, aaraba918, aarach642, aarach894, aarach971, aaragu377, aaragu580, aaraiy516, aaraiy951, aaraiy957, aarajo179, aarajo385, aaraka912, aarame118, aarame126, aarame318, aarame513, aarash365, aarasi143, aarasi289, aarasi452, aaroso119, aarota849, adamva326, adamwi542, aditba285, aditba600, aditgu330, aditgu407, aditgu568, aditgu87, aditiy381, aditjo362, aditjo655, aditka879, aditme175, aditme779, aditra357, aditra879, aditra935, aditsh163, aditsh25, aditsi182, aditsi352, aditsi450, aditsi469, aditsi713, aditsi907, adrisa378, alanto439, alexco222, alexda889, alexto726, alisco626, allesm791, allifo393, allije191, alysca454, amanco736, amanel945, amybi216, anabl781, ananba159, ananba44, ananba756, ananba856, ananch235, ananch283, ananch674, anangu185, anangu223, anangu51, anangu781, anangu98, ananiy233, ananiy562, ananiy857, ananjo670, ananjo895, ananka664, ananme848, ananra328, ananra651, ananra968, anansh155, anansh313, anansh726, anansh863, anansi133, anansi481, anansi521, anansi56, anawa381, andrgi818, andrmi845, andrpo382, andrth406, andrwa190, andrwi225, angean574, ...]\n",
            "\n",
            "[3250 rows x 0 columns]\n",
            "Cleaned data saved to cleaned_combined_data.xlsx\n"
          ]
        }
      ],
      "source": [
        "import pandas as pd\n",
        "import matplotlib.pyplot as plt\n",
        "import seaborn as sns\n",
        "import os\n",
        "\n",
        "# Load the Excel file\n",
        "data_path = 'combined_data.xlsx'\n",
        "df = pd.read_excel(data_path)\n",
        "\n",
        "# Function to clean and convert text to lowercase\n",
        "def clean_text(text):\n",
        "    if isinstance(text, str):\n",
        "        return ' '.join(text.lower().split())  # Convert to lowercase and remove extra spaces/newlines\n",
        "    return text\n",
        "\n",
        "# Apply the cleaning function to all text-based columns\n",
        "df = df.applymap(clean_text)\n",
        "\n",
        "# Save the cleaned data back to a new file\n",
        "output_path = 'cleaned_combined_data.xlsx'\n",
        "df.to_excel(output_path, index=False)\n",
        "\n",
        "# Basic Data Analysis\n",
        "print(\"Basic Information:\")\n",
        "print(df.info())\n",
        "\n",
        "print(\"\\nSummary Statistics:\")\n",
        "print(df.describe(include='all'))\n",
        "\n",
        "print(\"\\nMissing Values:\")\n",
        "print(df.isnull().sum())\n",
        "\n",
        "# Create a directory for saving plots\n",
        "output_dir = 'EDA analysis'\n",
        "os.makedirs(output_dir, exist_ok=True)\n",
        "\n",
        "# Advanced Analysis\n",
        "# Distribution of Numerical Columns\n",
        "numerical_cols = df.select_dtypes(include=['float64', 'int64']).columns\n",
        "for col in numerical_cols:\n",
        "    plt.figure(figsize=(8, 4))\n",
        "    sns.histplot(df[col], kde=True, bins=30)\n",
        "    plt.title(f'Distribution of {col}')\n",
        "\n",
        "    plt.close()  # Close the figure to free memory\n",
        "\n",
        "# Count Plots for Categorical Columns\n",
        "categorical_cols = df.select_dtypes(include=['object']).columns\n",
        "for col in categorical_cols:\n",
        "    plt.figure(figsize=(8, 4))\n",
        "    sns.countplot(data=df, y=col, order=df[col].value_counts().index)\n",
        "    plt.title(f'Count Plot of {col}')\n",
        "\n",
        "    plt.close()  # Close the figure to free memory\n",
        "\n",
        "# Pairplot for numerical columns\n",
        "if len(numerical_cols) > 1:\n",
        "    pairplot = sns.pairplot(df[numerical_cols])\n",
        "\n",
        "    plt.close()  # Close the figure to free memory\n",
        "\n",
        "# Grouping and Aggregation\n",
        "print(\"\\nGrouping and Aggregation Example:\")\n",
        "grouped_data = df.groupby(categorical_cols[0])[numerical_cols].mean()\n",
        "print(grouped_data)\n",
        "\n",
        "# Save the cleaned data\n",
        "print(f\"Cleaned data saved to {output_path}\")"
      ]
    }
  ]
}